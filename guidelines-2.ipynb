{
 "cells": [
  {
   "cell_type": "code",
   "execution_count": 15,
   "metadata": {},
   "outputs": [],
   "source": [
    "import numpy as np\n",
    "import cv2"
   ]
  },
  {
   "cell_type": "code",
   "execution_count": 16,
   "metadata": {},
   "outputs": [
    {
     "data": {
      "text/plain": [
       "-1"
      ]
     },
     "execution_count": 16,
     "metadata": {},
     "output_type": "execute_result"
    }
   ],
   "source": [
    "cv2.namedWindow(\"preview\",0)\n",
    "cv2.startWindowThread()\n",
    "#vc stands for video capture\n",
    "vc = cv2.VideoCapture(0)\n",
    "\n",
    "\n",
    "if vc.isOpened(): # try to get the first frame\n",
    "    rval, frame = vc.read()\n",
    "else:\n",
    "    rval = False\n",
    "while rval:  \n",
    "    # Set properties. Each returns === True on success (i.e. correct resolution)\n",
    "    vc.set(cv2.CAP_PROP_FRAME_WIDTH, 1280)\n",
    "    vc.set(cv2.CAP_PROP_FRAME_HEIGHT, 720)\n",
    "    flipframe = cv2.flip(frame,1)\n",
    "    cv2.imshow(\"preview\", flipframe)\n",
    " \n",
    "\n",
    "    rval, frame = vc.read()\n",
    "    key = cv2.waitKey(20)\n",
    "    if key == 27: # exit on ESC\n",
    "        break\n",
    "    else:\n",
    "        cv2.rectangle(img=frame, pt1 = (250, 100) , pt2 = (900, 650) , color=(0,255,0), thickness =10)\n",
    "        cv2.line(img=frame, pt1=(575, 50), pt2=(575, 700), color=(255, 0, 0), thickness=5, lineType=8, shift=0)\n",
    "vc.release()\n",
    "#close window by pressing esc (may have to press twice); \n",
    "#was not closing correctly on my mac; \n",
    "#this may just be needed for macs idk\n",
    "cv2.waitKey(1)\n",
    "cv2.destroyAllWindows()\n",
    "cv2.waitKey(1)"
   ]
  },
  {
   "cell_type": "markdown",
   "metadata": {},
   "source": []
  },
  {
   "cell_type": "code",
   "execution_count": null,
   "metadata": {},
   "outputs": [],
   "source": []
  }
 ],
 "metadata": {
  "kernelspec": {
   "display_name": "Python 3",
   "language": "python",
   "name": "python3"
  },
  "language_info": {
   "codemirror_mode": {
    "name": "ipython",
    "version": 3
   },
   "file_extension": ".py",
   "mimetype": "text/x-python",
   "name": "python",
   "nbconvert_exporter": "python",
   "pygments_lexer": "ipython3",
   "version": "3.7.5"
  }
 },
 "nbformat": 4,
 "nbformat_minor": 2
}
